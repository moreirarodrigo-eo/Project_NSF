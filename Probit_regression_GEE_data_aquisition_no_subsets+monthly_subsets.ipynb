{
  "cells": [
    {
      "cell_type": "markdown",
      "metadata": {
        "id": "view-in-github",
        "colab_type": "text"
      },
      "source": [
        "<a href=\"https://colab.research.google.com/github/moreirarodrigo-eo/Project_NSF/blob/main/Probit_regression_GEE_data_aquisition_no_subsets%2Bmonthly_subsets.ipynb\" target=\"_parent\"><img src=\"https://colab.research.google.com/assets/colab-badge.svg\" alt=\"Open In Colab\"/></a>"
      ]
    },
    {
      "cell_type": "code",
      "execution_count": 1,
      "metadata": {
        "id": "t-A73xZKtO60",
        "colab": {
          "base_uri": "https://localhost:8080/"
        },
        "outputId": "49d5dae0-5660-4465-a273-764b5fcd3cf5"
      },
      "outputs": [
        {
          "output_type": "stream",
          "name": "stdout",
          "text": [
            "To authorize access needed by Earth Engine, open the following URL in a web browser and follow the instructions. If the web browser does not start automatically, please manually browse the URL below.\n",
            "\n",
            "    https://code.earthengine.google.com/client-auth?scopes=https%3A//www.googleapis.com/auth/earthengine%20https%3A//www.googleapis.com/auth/devstorage.full_control&request_id=E_EAze0p03cRrlPdvdI1eIkyaQnjdBU1YiSH5MCIlzc&tc=i37m7fcmN2tdRc-ewd8eiNC_bsVafO17fiQIfCNMqiM&cc=Ycd-iCX6ouLjUpczwW6M1kDwlZjMOwiUoyTwNXrKnfg\n",
            "\n",
            "The authorization workflow will generate a code, which you should paste in the box below.\n",
            "Enter verification code: 4/1AfJohXmwYGJJcP09oT8BOVqMd9B0YKJACZzKdHiMpe0HAEcNuS4mO5OEQRM\n",
            "\n",
            "Successfully saved authorization token.\n"
          ]
        }
      ],
      "source": [
        "import ee\n",
        "ee.Authenticate()\n",
        "ee.Initialize()"
      ]
    },
    {
      "cell_type": "code",
      "execution_count": 2,
      "metadata": {
        "id": "qEAj1bOTtlLl",
        "colab": {
          "base_uri": "https://localhost:8080/",
          "height": 35
        },
        "outputId": "58a3c5d2-969a-4c16-b508-4c9c8b65602c"
      },
      "outputs": [
        {
          "output_type": "stream",
          "name": "stdout",
          "text": [
            "\u001b[?25l     \u001b[90m━━━━━━━━━━━━━━━━━━━━━━━━━━━━━━━━━━━━━━━━\u001b[0m \u001b[32m0.0/1.6 MB\u001b[0m \u001b[31m?\u001b[0m eta \u001b[36m-:--:--\u001b[0m\r\u001b[2K     \u001b[91m━━━━\u001b[0m\u001b[90m╺\u001b[0m\u001b[90m━━━━━━━━━━━━━━━━━━━━━━━━━━━━━━━━━━━\u001b[0m \u001b[32m0.2/1.6 MB\u001b[0m \u001b[31m5.4 MB/s\u001b[0m eta \u001b[36m0:00:01\u001b[0m\r\u001b[2K     \u001b[91m━━━━━━━━━━━━━━━━━━━━━━━━━━━━━━━━━━━━━━━\u001b[0m\u001b[91m╸\u001b[0m \u001b[32m1.6/1.6 MB\u001b[0m \u001b[31m24.0 MB/s\u001b[0m eta \u001b[36m0:00:01\u001b[0m\r\u001b[2K     \u001b[90m━━━━━━━━━━━━━━━━━━━━━━━━━━━━━━━━━━━━━━━━\u001b[0m \u001b[32m1.6/1.6 MB\u001b[0m \u001b[31m18.8 MB/s\u001b[0m eta \u001b[36m0:00:00\u001b[0m\n",
            "\u001b[?25h"
          ]
        }
      ],
      "source": [
        "import pandas as pd\n",
        "import numpy as np\n",
        "import matplotlib.pyplot as plt\n",
        "!pip install geemap -q\n",
        "import geemap\n",
        "import folium\n",
        "!pip install geopandas -q\n",
        "import geopandas as gpd"
      ]
    },
    {
      "cell_type": "code",
      "execution_count": 3,
      "metadata": {
        "colab": {
          "base_uri": "https://localhost:8080/",
          "height": 35
        },
        "id": "vizgecFXv2rh",
        "outputId": "f58cf0ad-6dbf-43bd-cf48-c0855fbdb390"
      },
      "outputs": [
        {
          "output_type": "display_data",
          "data": {
            "text/plain": [
              "<IPython.core.display.HTML object>"
            ],
            "text/html": [
              "\n",
              "            <style>\n",
              "                .geemap-dark {\n",
              "                    --jp-widgets-color: white;\n",
              "                    --jp-widgets-label-color: white;\n",
              "                    --jp-ui-font-color1: white;\n",
              "                    --jp-layout-color2: #454545;\n",
              "                    background-color: #383838;\n",
              "                }\n",
              "                    \n",
              "                .geemap-dark .jupyter-button {\n",
              "                    --jp-layout-color3: #383838;\n",
              "                }\n",
              "                \n",
              "                .geemap-colab {\n",
              "                    background-color: var(--colab-primary-surface-color, white);\n",
              "                }\n",
              "                    \n",
              "                .geemap-colab .jupyter-button {\n",
              "                    --jp-layout-color3: var(--colab-primary-surface-color, white);\n",
              "                }\n",
              "            </style>\n",
              "            "
            ]
          },
          "metadata": {}
        },
        {
          "output_type": "stream",
          "name": "stdout",
          "text": [
            "Mounted at /content/drive\n"
          ]
        }
      ],
      "source": [
        "from google.colab import drive\n",
        "drive.mount('/content/drive')"
      ]
    },
    {
      "cell_type": "code",
      "execution_count": 4,
      "metadata": {
        "id": "LjZANqKp46wN",
        "colab": {
          "base_uri": "https://localhost:8080/",
          "height": 17
        },
        "outputId": "176f8183-0811-4a7c-fb9d-42a7e825a4af"
      },
      "outputs": [
        {
          "output_type": "display_data",
          "data": {
            "text/plain": [
              "<IPython.core.display.HTML object>"
            ],
            "text/html": [
              "\n",
              "            <style>\n",
              "                .geemap-dark {\n",
              "                    --jp-widgets-color: white;\n",
              "                    --jp-widgets-label-color: white;\n",
              "                    --jp-ui-font-color1: white;\n",
              "                    --jp-layout-color2: #454545;\n",
              "                    background-color: #383838;\n",
              "                }\n",
              "                    \n",
              "                .geemap-dark .jupyter-button {\n",
              "                    --jp-layout-color3: #383838;\n",
              "                }\n",
              "                \n",
              "                .geemap-colab {\n",
              "                    background-color: var(--colab-primary-surface-color, white);\n",
              "                }\n",
              "                    \n",
              "                .geemap-colab .jupyter-button {\n",
              "                    --jp-layout-color3: var(--colab-primary-surface-color, white);\n",
              "                }\n",
              "            </style>\n",
              "            "
            ]
          },
          "metadata": {}
        }
      ],
      "source": [
        "import os\n",
        "os.chdir('/content/drive/MyDrive/PROJETOS/Project_US/')"
      ]
    },
    {
      "cell_type": "markdown",
      "source": [
        "# **Monthly subsets - all months separatelly**"
      ],
      "metadata": {
        "id": "Za9wRc5dd1yB"
      }
    },
    {
      "cell_type": "markdown",
      "source": [
        "###**Loop**\n",
        "\n"
      ],
      "metadata": {
        "id": "Mtf29Vg31zqE"
      }
    },
    {
      "cell_type": "code",
      "source": [
        "lots = ee.FeatureCollection('projects/ee-moreirarmt/assets/Vectors/with_regionTotal_Lots_NewID').filter(ee.Filter.eq('Region', 3))\n",
        "grid = ee.FeatureCollection.randomPoints(region = lots, points = 50000, seed = 42, maxError = 1)\n",
        "grid_small = ee.FeatureCollection.randomPoints(region = lots, points = 10000, seed = 42, maxError = 1).limit(5)\n",
        "\n",
        "# Define the parameters\n",
        "regions = [\n",
        "          # 'North',\n",
        "           'South',\n",
        "          #  'Center'\n",
        "           ]\n",
        "distance_month_subsets = [\n",
        "                          50,\n",
        "                          100,\n",
        "                          150,\n",
        "                          200\n",
        "                          ]\n",
        "months = [\n",
        "          '_JUL_',\n",
        "          '_AUG_',\n",
        "          '_SEP_'\n",
        "          ]\n",
        "years = [\n",
        "         '2019',\n",
        "         '2020',\n",
        "         '2021',\n",
        "         '2022',\n",
        "         '2023'\n",
        "         ]\n",
        "\n",
        "# Create a loop to iterate over all combinations\n",
        "for region in regions:\n",
        "    for distance_month_subset in distance_month_subsets:\n",
        "        for month in months:\n",
        "            for year in years:\n",
        "                # Load the 'land_use' image for the specified year\n",
        "                land_use = ee.Image('projects/mapbiomas-workspace/public/collection8/mapbiomas_collection80_integration_v1') \\\n",
        "                    .select(f'classification_2022').clip(lots)\n",
        "\n",
        "                # Create a kernel and perform operations\n",
        "                distance_kernel = 2550\n",
        "                kernel = ee.Kernel.euclidean(distance_kernel, 'meters')\n",
        "\n",
        "                # Example of calculating distances\n",
        "                edges_land_use = ee.Algorithms.CannyEdgeDetector(land_use, 0)\n",
        "                edges_land_use_reclass = edges_land_use.gt(0).clip(lots)\n",
        "\n",
        "                # Calculate distances for land use edges\n",
        "                edges_land_use_reclass_distance = edges_land_use_reclass.distance(kernel, False).lte(distance_month_subset).clip(lots)\n",
        "\n",
        "                # Load 'roads' feature collection and calculate distances\n",
        "                roads_ro = ee.FeatureCollection(\"projects/ee-moreirarmt/assets/Vectors/Roads_RO\")\n",
        "                roads_distance = roads_ro.distance(distance_kernel)\n",
        "                roads_dist_reclass = ee.Image(roads_distance).lte(distance_month_subset).clip(lots)\n",
        "\n",
        "                # Load 'lots_edges' feature collection and calculate distances\n",
        "                lots_edges = ee.FeatureCollection('users/moreirarmt/Total_Lots_NewID')\n",
        "                lots_edges_distance = lots_edges.distance(searchRadius=distance_kernel, maxError=1).lte(distance_month_subset).clip(lots)\n",
        "\n",
        "                # Load and process 'burn_scars' image\n",
        "                merge_burn_scars = ee.Image(f'projects/ee-moreirarmt/assets/FIRE_Project_US_Consult/PROJ_US_RF{month}{year}')\n",
        "                burn_scars_edges = ee.Algorithms.CannyEdgeDetector(merge_burn_scars, 0).gt(0)\n",
        "                merge_burn_scars_reclass = ee.Image(1).where(merge_burn_scars.gte(1).And(merge_burn_scars.lte(4)), 1)\n",
        "\n",
        "                # Create a kernel for burn scars edges and calculate distances\n",
        "                kernel_burn_scars = ee.Kernel.euclidean(distance_kernel, 'meters')\n",
        "                burn_scars_edges_distance = burn_scars_edges.distance(kernel_burn_scars).lte(distance_month_subset).clip(lots)\n",
        "\n",
        "                # Combine and rename image bands\n",
        "                band_names = [\n",
        "                    f'roads_distance_{distance_month_subset}_{month}_{region}',\n",
        "                    f'land_use_edge_distance_{distance_month_subset}_{month}_{region}',\n",
        "                    f'burn_scars_edges_distance_{distance_month_subset}_{month}_{region}',\n",
        "                    f'lots_edges_distance_{distance_month_subset}_{month}_{region}'\n",
        "                ]\n",
        "                images_combined = roads_dist_reclass.addBands(edges_land_use_reclass_distance) \\\n",
        "                                    .addBands(burn_scars_edges_distance) \\\n",
        "                                    .addBands(lots_edges_distance) \\\n",
        "                                    .rename(band_names)\n",
        "\n",
        "                # Sample regions and create a Pandas DataFrame\n",
        "                extracted_values = images_combined.sampleRegions(collection=grid,\n",
        "                                                                 scale=10)\n",
        "                grid_df = geemap.ee_to_pandas(grid_small)\n",
        "                sample_result = extracted_values.first().getInfo()\n",
        "                columns = list(sample_result['properties'].keys())\n",
        "                column_df = list(grid_df.columns)\n",
        "                column_names = [\n",
        "                    f'burn_scars_edges_distance_{distance_month_subset}_{month}_{region}',\n",
        "                    f'land_use_edge_distance_{distance_month_subset}_{month}_{region}',\n",
        "                    f'roads_distance_{distance_month_subset}_{month}_{region}',\n",
        "                    f'lots_edges_distance_{distance_month_subset}_{month}_{region}'\n",
        "                ]\n",
        "                column_df.extend(column_names)\n",
        "                nested_list = extracted_values.reduceColumns(ee.Reducer.toList(len(column_df)), column_df).values().get(0)\n",
        "                data = nested_list.getInfo()\n",
        "                df = pd.DataFrame(data, columns=column_df)\n",
        "                pd.DataFrame.to_csv(df, f'monthly_subsets_LOOP/{region}/{year}/extract_values_covariates_burn_edges_{distance_month_subset}_m_df{month}{year}.csv')"
      ],
      "metadata": {
        "id": "_Ne4uTuZpk64",
        "colab": {
          "base_uri": "https://localhost:8080/",
          "height": 17
        },
        "outputId": "87e3d81c-f232-4ae0-b1b9-fb626b62c780"
      },
      "execution_count": 7,
      "outputs": [
        {
          "output_type": "display_data",
          "data": {
            "text/plain": [
              "<IPython.core.display.HTML object>"
            ],
            "text/html": [
              "\n",
              "            <style>\n",
              "                .geemap-dark {\n",
              "                    --jp-widgets-color: white;\n",
              "                    --jp-widgets-label-color: white;\n",
              "                    --jp-ui-font-color1: white;\n",
              "                    --jp-layout-color2: #454545;\n",
              "                    background-color: #383838;\n",
              "                }\n",
              "                    \n",
              "                .geemap-dark .jupyter-button {\n",
              "                    --jp-layout-color3: #383838;\n",
              "                }\n",
              "                \n",
              "                .geemap-colab {\n",
              "                    background-color: var(--colab-primary-surface-color, white);\n",
              "                }\n",
              "                    \n",
              "                .geemap-colab .jupyter-button {\n",
              "                    --jp-layout-color3: var(--colab-primary-surface-color, white);\n",
              "                }\n",
              "            </style>\n",
              "            "
            ]
          },
          "metadata": {}
        }
      ]
    },
    {
      "cell_type": "code",
      "source": [
        "import geopandas as gpd\n",
        "import pandas as pd\n",
        "import os\n",
        "\n",
        "regions = ['North', 'South', 'Center']\n",
        "distance_month_subsets = [50, 100, 150, 200]\n",
        "months = ['_JUL_', '_AUG_', '_SEP_']\n",
        "years = ['2019', '2020', '2021', '2022']\n",
        "\n",
        "# grid_gdf = gpd.read_file('grid_points_probit.shp')\n",
        "\n",
        "dataframes = {}  # Create a dictionary to store merged DataFrames\n",
        "filtered_dataframes = {}  # Create a dictionary to store filtered DataFrames\n",
        "\n",
        "for region in regions:\n",
        "    for distance_month_subset in distance_month_subsets:\n",
        "        for month in months:\n",
        "            for year in years:\n",
        "                file_path = f'monthly_subsets_LOOP/{region}/{year}/extract_values_covariates_burn_edges_{distance_month_subset}_m_df{month}{year}.csv'\n",
        "                df = pd.read_csv(file_path)\n",
        "\n",
        "                # Rename 'Unnamed: 0' column to 'id'\n",
        "                df = df.rename(columns={'Unnamed: 0': 'id'})\n",
        "\n",
        "                # Ensure both DataFrames have a common column to merge on (e.g., 'geometry' if it exists)\n",
        "                merge_on = 'id' if 'id' in df.columns else 'common_column_name'\n",
        "\n",
        "                merged_df = grid_gdf.merge(df, on=merge_on)\n",
        "                merged_df = merged_df.drop(columns=['id'])  # Remove unnecessary 'id' column\n",
        "                key = f'db_{region}_{distance_month_subset}m_{month}_{year}'\n",
        "                dataframes[key] = merged_df\n",
        "\n",
        "                filtered_df = merged_df[merged_df[f'burn_scars_edges_distance_{distance_month_subset}_{month}_{region}'] > 0]\n",
        "                filtered_dataframes[key] = filtered_df\n",
        "\n",
        "                merged_df['lon'] = merged_df['geometry'].x\n",
        "                merged_df['lat'] = merged_df['geometry'].y\n",
        "\n",
        "                output_path_csv = f'PROBIT_spreg_csv_lat_long_LOOP/{region}/{year}/{distance_month_subset}/{distance_month_subset}_m_df{month}{year}.csv'\n",
        "                merged_df.to_csv(output_path_csv)\n",
        "\n",
        "                output_path_shp = f'PROBIT_spreg_csv_lat_long_LOOP/{region}/{year}/{distance_month_subset}/{distance_month_subset}_m_df{month}{year}.shp'\n",
        "                merged_df.to_file(output_path_shp)"
      ],
      "metadata": {
        "colab": {
          "base_uri": "https://localhost:8080/",
          "height": 767
        },
        "id": "2rkt5vou5zJy",
        "outputId": "a9c18331-baef-4134-f8ea-52e657218fd9"
      },
      "execution_count": null,
      "outputs": [
        {
          "output_type": "display_data",
          "data": {
            "text/plain": [
              "<IPython.core.display.HTML object>"
            ],
            "text/html": [
              "\n",
              "            <style>\n",
              "                .geemap-dark {\n",
              "                    --jp-widgets-color: white;\n",
              "                    --jp-widgets-label-color: white;\n",
              "                    --jp-ui-font-color1: white;\n",
              "                    --jp-layout-color2: #454545;\n",
              "                    background-color: #383838;\n",
              "                }\n",
              "                    \n",
              "                .geemap-dark .jupyter-button {\n",
              "                    --jp-layout-color3: #383838;\n",
              "                }\n",
              "                \n",
              "                .geemap-colab {\n",
              "                    background-color: var(--colab-primary-surface-color, white);\n",
              "                }\n",
              "                    \n",
              "                .geemap-colab .jupyter-button {\n",
              "                    --jp-layout-color3: var(--colab-primary-surface-color, white);\n",
              "                }\n",
              "            </style>\n",
              "            "
            ]
          },
          "metadata": {}
        },
        {
          "output_type": "stream",
          "name": "stderr",
          "text": [
            "<ipython-input-25-e211607660f8>:43: UserWarning: Column names longer than 10 characters will be truncated when saved to ESRI Shapefile.\n",
            "  merged_df.to_file(output_path_shp)\n",
            "WARNING:fiona._env:Normalized/laundered field name: 'burn_scars_edges_distance_50__JUL__North' to 'burn_scars'\n",
            "WARNING:fiona._env:Normalized/laundered field name: 'land_use_edge_distance_50__JUL__North' to 'land_use_e'\n",
            "WARNING:fiona._env:Normalized/laundered field name: 'roads_distance_50__JUL__North' to 'roads_dist'\n",
            "WARNING:fiona._env:Normalized/laundered field name: 'lots_edges_distance_50__JUL__North' to 'lots_edges'\n",
            "<ipython-input-25-e211607660f8>:43: UserWarning: Column names longer than 10 characters will be truncated when saved to ESRI Shapefile.\n",
            "  merged_df.to_file(output_path_shp)\n",
            "WARNING:fiona._env:Normalized/laundered field name: 'burn_scars_edges_distance_50__JUL__North' to 'burn_scars'\n",
            "WARNING:fiona._env:Normalized/laundered field name: 'land_use_edge_distance_50__JUL__North' to 'land_use_e'\n",
            "WARNING:fiona._env:Normalized/laundered field name: 'roads_distance_50__JUL__North' to 'roads_dist'\n",
            "WARNING:fiona._env:Normalized/laundered field name: 'lots_edges_distance_50__JUL__North' to 'lots_edges'\n",
            "<ipython-input-25-e211607660f8>:43: UserWarning: Column names longer than 10 characters will be truncated when saved to ESRI Shapefile.\n",
            "  merged_df.to_file(output_path_shp)\n",
            "WARNING:fiona._env:Normalized/laundered field name: 'burn_scars_edges_distance_50__JUL__North' to 'burn_scars'\n",
            "WARNING:fiona._env:Normalized/laundered field name: 'land_use_edge_distance_50__JUL__North' to 'land_use_e'\n",
            "WARNING:fiona._env:Normalized/laundered field name: 'roads_distance_50__JUL__North' to 'roads_dist'\n",
            "WARNING:fiona._env:Normalized/laundered field name: 'lots_edges_distance_50__JUL__North' to 'lots_edges'\n",
            "<ipython-input-25-e211607660f8>:43: UserWarning: Column names longer than 10 characters will be truncated when saved to ESRI Shapefile.\n",
            "  merged_df.to_file(output_path_shp)\n",
            "WARNING:fiona._env:Normalized/laundered field name: 'burn_scars_edges_distance_50__JUL__North' to 'burn_scars'\n",
            "WARNING:fiona._env:Normalized/laundered field name: 'land_use_edge_distance_50__JUL__North' to 'land_use_e'\n",
            "WARNING:fiona._env:Normalized/laundered field name: 'roads_distance_50__JUL__North' to 'roads_dist'\n",
            "WARNING:fiona._env:Normalized/laundered field name: 'lots_edges_distance_50__JUL__North' to 'lots_edges'\n",
            "<ipython-input-25-e211607660f8>:43: UserWarning: Column names longer than 10 characters will be truncated when saved to ESRI Shapefile.\n",
            "  merged_df.to_file(output_path_shp)\n",
            "WARNING:fiona._env:Normalized/laundered field name: 'burn_scars_edges_distance_50__AUG__North' to 'burn_scars'\n",
            "WARNING:fiona._env:Normalized/laundered field name: 'land_use_edge_distance_50__AUG__North' to 'land_use_e'\n",
            "WARNING:fiona._env:Normalized/laundered field name: 'roads_distance_50__AUG__North' to 'roads_dist'\n",
            "WARNING:fiona._env:Normalized/laundered field name: 'lots_edges_distance_50__AUG__North' to 'lots_edges'\n",
            "<ipython-input-25-e211607660f8>:43: UserWarning: Column names longer than 10 characters will be truncated when saved to ESRI Shapefile.\n",
            "  merged_df.to_file(output_path_shp)\n",
            "WARNING:fiona._env:Normalized/laundered field name: 'burn_scars_edges_distance_50__AUG__North' to 'burn_scars'\n",
            "WARNING:fiona._env:Normalized/laundered field name: 'land_use_edge_distance_50__AUG__North' to 'land_use_e'\n",
            "WARNING:fiona._env:Normalized/laundered field name: 'roads_distance_50__AUG__North' to 'roads_dist'\n",
            "WARNING:fiona._env:Normalized/laundered field name: 'lots_edges_distance_50__AUG__North' to 'lots_edges'\n",
            "<ipython-input-25-e211607660f8>:43: UserWarning: Column names longer than 10 characters will be truncated when saved to ESRI Shapefile.\n",
            "  merged_df.to_file(output_path_shp)\n",
            "WARNING:fiona._env:Normalized/laundered field name: 'burn_scars_edges_distance_50__AUG__North' to 'burn_scars'\n",
            "WARNING:fiona._env:Normalized/laundered field name: 'land_use_edge_distance_50__AUG__North' to 'land_use_e'\n",
            "WARNING:fiona._env:Normalized/laundered field name: 'roads_distance_50__AUG__North' to 'roads_dist'\n",
            "WARNING:fiona._env:Normalized/laundered field name: 'lots_edges_distance_50__AUG__North' to 'lots_edges'\n"
          ]
        }
      ]
    },
    {
      "cell_type": "markdown",
      "source": [
        "###**Monthly subsets**\n"
      ],
      "metadata": {
        "id": "7-P-7FY62IgE"
      }
    },
    {
      "cell_type": "code",
      "source": [
        "lots = ee.FeatureCollection('projects/ee-moreirarmt/assets/Vectors/with_regionTotal_Lots_NewID').filter(ee.Filter.eq('Region', 1))\n",
        "grid = ee.FeatureCollection('projects/ee-moreirarmt/assets/rand_points_North_10000')\n",
        "grid_small = ee.FeatureCollection('projects/ee-rodrigomoreira/assets/grid_pontos_Project_US')\n",
        "\n",
        "distance_month_subset = 50\n",
        "month = '_JUL_'\n",
        "year = str(2019)\n",
        "\n",
        "distance = distance_month_subset\n",
        "distance_kernel = 2550\n",
        "kernel = ee.Kernel.euclidean(distance_kernel, 'meters')\n",
        "\n",
        "# ##Land use\n",
        "# land_use = ee.Image('projects/mapbiomas-workspace/public/collection8/mapbiomas_collection80_integration_v1')\\\n",
        "#                 .select('classification_'+year).clip(lots)\n",
        "\n",
        "##Land use for 2023\n",
        "land_use = ee.Image('projects/mapbiomas-workspace/public/collection8/mapbiomas_collection80_integration_v1')\\\n",
        "                .select('classification_2022').clip(lots)\n",
        "\n",
        "land_use = ee.Image(land_use)\n",
        "edges_land_use = ee.Algorithms.CannyEdgeDetector(land_use, 0)\n",
        "edges_land_use_reclass = edges_land_use.gt(0).clip(lots)\n",
        "#edges_land_use.gte(0).And(edges_land_use.lte(distance), 1).where(edges_land_use.gt(distance + 0.1).And(edges_land_use.lte(distance_kernel), 0)),\n",
        "edges_land_use_reclass_distance  = edges_land_use_reclass.distance(kernel, False).lte(distance).clip(lots)\n",
        "\n",
        "\n",
        "##Roads\n",
        "roads_ro = ee.FeatureCollection(\"projects/ee-moreirarmt/assets/Vectors/Roads_RO\")\n",
        "roads_distance = roads_ro.distance(distance_kernel)\n",
        "roads_dist_reclass = ee.Image(roads_distance).lte(distance).clip(lots)\n",
        "\n",
        "##Lots\n",
        "lots_edges = ee.FeatureCollection('users/moreirarmt/Total_Lots_NewID')\n",
        "lots_edges_distance = lots_edges.distance(searchRadius = distance_kernel, maxError = 1).lte(distance).clip(lots)\n",
        "\n",
        "merge_burn_scars = ee.Image('projects/ee-moreirarmt/assets/FIRE_Project_US_Consult/PROJ_US_RF'+month+year)\n",
        "\n",
        "burn_scars_edges = ee.Algorithms.CannyEdgeDetector(merge_burn_scars,0).gt(0)\n",
        "\n",
        "merge_burn_scars_reclass = ee.Image(1)\\\n",
        "                            .where(merge_burn_scars.gte(1).And(merge_burn_scars.lte(4)), 1);\n",
        "\n",
        "kernel_burn_scars = ee.Kernel.euclidean(distance_kernel, 'meters')\n",
        "\n",
        "burn_scars_edges_distance = burn_scars_edges.distance(kernel_burn_scars).lte(distance).clip(lots)\n",
        "\n",
        "burn_scars_edges_within_excluded = merge_burn_scars_reclass.add(burn_scars_edges_distance).eq(2)\n",
        "\n",
        "burn_scars_edges_within_excluded_reclass_to_2 = burn_scars_edges_within_excluded\\\n",
        "                                                    .where(merge_burn_scars.gt(0), 2)\n",
        "\n",
        "images_combined = roads_dist_reclass.addBands(edges_land_use_reclass_distance)\\\n",
        "                                    .addBands(burn_scars_edges_within_excluded_reclass_to_2)\\\n",
        "                                    .addBands(lots_edges_distance)\\\n",
        "                                    .rename(['roads_distance_'+month, 'land_use_edge_distance_'+month,\n",
        "                                             'burn_scars_edges_distance_'+month, 'lots_edges_distance_'+month])\n",
        "\n",
        "extracted_values = images_combined.sampleRegions(collection = grid,\n",
        "                                                 scale = 10)\n",
        "grid_df = geemap.ee_to_pandas(grid_small)\n",
        "\n",
        "sample_result = extracted_values.first().getInfo()\n",
        "\n",
        "columns = list(sample_result['properties'].keys())\n",
        "column_df = list(grid_df.columns)\n",
        "column_df.extend(['burn_scars_edges_distance_'+month, 'land_use_edge_distance_'+month, 'roads_distance_'+month, 'lots_edges_distance_'+month])\n",
        "\n",
        "nested_list = extracted_values.reduceColumns(ee.Reducer.toList(len(column_df)), column_df).values().get(0)\n",
        "data = nested_list.getInfo()\n",
        "df = pd.DataFrame(data, columns = column_df)\n",
        "pd.DataFrame.to_csv(df, 'monthly_subsets/'+str(year)+'/extract_values_covariates_burn_edges_'+str(distance_month_subset)+'_m_df'+month+str(year)+'.csv')"
      ],
      "metadata": {
        "id": "a4azPKyBp96z",
        "colab": {
          "base_uri": "https://localhost:8080/",
          "height": 17
        },
        "outputId": "ca7f93f2-490a-4e9b-93c2-a5edbde508a6"
      },
      "execution_count": 5,
      "outputs": [
        {
          "output_type": "display_data",
          "data": {
            "text/plain": [
              "<IPython.core.display.HTML object>"
            ],
            "text/html": [
              "\n",
              "            <style>\n",
              "                .geemap-dark {\n",
              "                    --jp-widgets-color: white;\n",
              "                    --jp-widgets-label-color: white;\n",
              "                    --jp-ui-font-color1: white;\n",
              "                    --jp-layout-color2: #454545;\n",
              "                    background-color: #383838;\n",
              "                }\n",
              "                    \n",
              "                .geemap-dark .jupyter-button {\n",
              "                    --jp-layout-color3: #383838;\n",
              "                }\n",
              "                \n",
              "                .geemap-colab {\n",
              "                    background-color: var(--colab-primary-surface-color, white);\n",
              "                }\n",
              "                    \n",
              "                .geemap-colab .jupyter-button {\n",
              "                    --jp-layout-color3: var(--colab-primary-surface-color, white);\n",
              "                }\n",
              "            </style>\n",
              "            "
            ]
          },
          "metadata": {}
        }
      ]
    },
    {
      "cell_type": "markdown",
      "source": [
        "###**Monthly+Region subsets**\n"
      ],
      "metadata": {
        "id": "YtgNR-Bp2RzE"
      }
    },
    {
      "cell_type": "code",
      "source": [
        "lots = ee.FeatureCollection('projects/ee-moreirarmt/assets/Vectors/with_regionTotal_Lots_NewID').filter(ee.Filter.eq('Region', 1))\n",
        "grid = ee.FeatureCollection.randomPoints(region = lots, points = 50000, seed = 42, maxError = 1)\n",
        "grid_small = ee.FeatureCollection.randomPoints(region = lots, points = 2, seed = 42, maxError = 1)\n",
        "region = 'North'\n",
        "distance_month_subset = 50\n",
        "month = '_JUL_'\n",
        "year = str(2019)\n",
        "\n",
        "distance = distance_month_subset\n",
        "distance_kernel = 500\n",
        "kernel = ee.Kernel.euclidean(distance_kernel, 'meters')\n",
        "\n",
        "##Land use\n",
        "land_use = ee.Image('projects/mapbiomas-workspace/public/collection8/mapbiomas_collection80_integration_v1')\\\n",
        "                .select('classification_'+year).clip(lots)\n",
        "\n",
        "# ##Land use for 2023\n",
        "# land_use = ee.Image('projects/mapbiomas-workspace/public/collection8/mapbiomas_collection80_integration_v1')\\\n",
        "#                 .select('classification_2022').clip(lots)\n",
        "\n",
        "land_use = ee.Image(land_use)\n",
        "edges_land_use = ee.Algorithms.CannyEdgeDetector(land_use, 0)\n",
        "edges_land_use_reclass = edges_land_use.gt(0).clip(lots)\n",
        "#edges_land_use.gte(0).And(edges_land_use.lte(distance), 1).where(edges_land_use.gt(distance + 0.1).And(edges_land_use.lte(distance_kernel), 0)),\n",
        "edges_land_use_reclass_distance  = edges_land_use_reclass.distance(kernel, False).lte(distance).clip(lots)\n",
        "\n",
        "\n",
        "##Roads\n",
        "roads_ro = ee.FeatureCollection(\"projects/ee-moreirarmt/assets/Vectors/Roads_RO\")\n",
        "roads_distance = roads_ro.distance(distance_kernel)\n",
        "roads_dist_reclass = ee.Image(roads_distance).lte(distance).clip(lots)\n",
        "\n",
        "##Lots\n",
        "lots_edges = ee.FeatureCollection('users/moreirarmt/Total_Lots_NewID')\n",
        "lots_edges_distance = lots_edges.distance(searchRadius = distance_kernel, maxError = 1).lte(distance).clip(lots)\n",
        "\n",
        "merge_burn_scars = ee.Image('projects/ee-moreirarmt/assets/FIRE_Project_US_Consult/PROJ_US_RF'+month+year)\n",
        "\n",
        "burn_scars_edges = ee.Algorithms.CannyEdgeDetector(merge_burn_scars,0).gt(0)\n",
        "\n",
        "merge_burn_scars_reclass = ee.Image(1)\\\n",
        "                            .where(merge_burn_scars.gte(1).And(merge_burn_scars.lte(4)), 1);\n",
        "\n",
        "kernel_burn_scars = ee.Kernel.euclidean(distance, 'meters')\n",
        "\n",
        "burn_scars_edges_distance = burn_scars_edges.distance(kernel_burn_scars).lte(distance).clip(lots)\n",
        "\n",
        "burn_scars_edges_within_excluded = merge_burn_scars_reclass.add(burn_scars_edges_distance).eq(2)\n",
        "\n",
        "burn_scars_edges_within_excluded_reclass_to_2 = burn_scars_edges_within_excluded\\\n",
        "                                                    .where(merge_burn_scars.gt(0), 2)\n",
        "\n",
        "images_combined = roads_dist_reclass.addBands(edges_land_use_reclass_distance)\\\n",
        "                                    .addBands(burn_scars_edges_within_excluded_reclass_to_2)\\\n",
        "                                    .addBands(lots_edges_distance)\\\n",
        "                                    .rename(['roads_distance_'+month+'_'+region, 'land_use_edge_distance_'+month+'_'+region,\n",
        "                                             'burn_scars_edges_distance_'+month+'_'+region, 'lots_edges_distance_'+month+'_'+region])\n",
        "\n",
        "\n",
        "extracted_values = images_combined.sampleRegions(collection = grid,\n",
        "                                                 scale = 10,\n",
        "                                                 tileScale = 8)\n",
        "grid_df = geemap.ee_to_pandas(grid_small)\n",
        "\n",
        "sample_result = extracted_values.first().getInfo()\n",
        "\n",
        "columns = list(sample_result['properties'].keys())\n",
        "column_df = list(grid_df.columns)\n",
        "column_df.extend(['burn_scars_edges_distance_'+month+'_'+region, 'land_use_edge_distance_'+month+'_'+region, 'roads_distance_'+month+'_'+region, 'lots_edges_distance_'+month+'_'+region])\n",
        "\n",
        "nested_list = extracted_values.reduceColumns(ee.Reducer.toList(len(column_df)), column_df).values().get(0)\n",
        "data = nested_list.getInfo()\n",
        "df = pd.DataFrame(data, columns = column_df)\n",
        "pd.DataFrame.to_csv(df, 'monthly_subsets/'+region+'/'+str(year)+'/extract_values_covariates_burn_edges_'+str(distance_month_subset)+'_m_df'+month+str(year)+'.csv')"
      ],
      "metadata": {
        "id": "GoaHREF7d4qN",
        "colab": {
          "base_uri": "https://localhost:8080/",
          "height": 17
        },
        "outputId": "6262a198-40c0-4960-9b21-898e4ab2571b"
      },
      "execution_count": null,
      "outputs": [
        {
          "output_type": "display_data",
          "data": {
            "text/plain": [
              "<IPython.core.display.HTML object>"
            ],
            "text/html": [
              "\n",
              "            <style>\n",
              "                .geemap-dark {\n",
              "                    --jp-widgets-color: white;\n",
              "                    --jp-widgets-label-color: white;\n",
              "                    --jp-ui-font-color1: white;\n",
              "                    --jp-layout-color2: #454545;\n",
              "                    background-color: #383838;\n",
              "                }\n",
              "                    \n",
              "                .geemap-dark .jupyter-button {\n",
              "                    --jp-layout-color3: #383838;\n",
              "                }\n",
              "                \n",
              "                .geemap-colab {\n",
              "                    background-color: var(--colab-primary-surface-color, white);\n",
              "                }\n",
              "                    \n",
              "                .geemap-colab .jupyter-button {\n",
              "                    --jp-layout-color3: var(--colab-primary-surface-color, white);\n",
              "                }\n",
              "            </style>\n",
              "            "
            ]
          },
          "metadata": {}
        }
      ]
    },
    {
      "cell_type": "markdown",
      "source": [
        "###**Exporting as csv, creating gdfs subsets**\n"
      ],
      "metadata": {
        "id": "JtERLvky2YMb"
      }
    },
    {
      "cell_type": "code",
      "source": [
        "distance_month_subset_50 = 50\n",
        "distance_month_subset_100 = 100\n",
        "distance_month_subset_150 = 150\n",
        "distance_month_subset_200 = 200\n",
        "\n",
        "month = 'SEP'\n",
        "year = str(2023)\n",
        "\n",
        "df_50m = pd.read_csv('monthly_subsets/'+str(year)+'/extract_values_covariates_burn_edges_'+str(distance_month_subset_50)+'_m_df_'+month+'_'+str(year)+'.csv')\n",
        "df_100m =pd.read_csv('monthly_subsets/'+str(year)+'/extract_values_covariates_burn_edges_'+str(distance_month_subset_100)+'_m_df_'+month+'_'+str(year)+'.csv')\n",
        "df_150m = pd.read_csv('monthly_subsets/'+str(year)+'/extract_values_covariates_burn_edges_'+str(distance_month_subset_150)+'_m_df_'+month+'_'+str(year)+'.csv')\n",
        "df_200m = pd.read_csv('monthly_subsets/'+str(year)+'/extract_values_covariates_burn_edges_'+str(distance_month_subset_200)+'_m_df_'+month+'_'+str(year)+'.csv')"
      ],
      "metadata": {
        "id": "JJ9NOw2mW7lD",
        "colab": {
          "base_uri": "https://localhost:8080/",
          "height": 17
        },
        "outputId": "ca82ea67-fde2-4e1b-fac4-dbf121131867"
      },
      "execution_count": null,
      "outputs": [
        {
          "output_type": "display_data",
          "data": {
            "text/plain": [
              "<IPython.core.display.HTML object>"
            ],
            "text/html": [
              "\n",
              "            <style>\n",
              "                .geemap-dark {\n",
              "                    --jp-widgets-color: white;\n",
              "                    --jp-widgets-label-color: white;\n",
              "                    --jp-ui-font-color1: white;\n",
              "                    --jp-layout-color2: #454545;\n",
              "                    background-color: #383838;\n",
              "                }\n",
              "                    \n",
              "                .geemap-dark .jupyter-button {\n",
              "                    --jp-layout-color3: #383838;\n",
              "                }\n",
              "                \n",
              "                .geemap-colab {\n",
              "                    background-color: var(--colab-primary-surface-color, white);\n",
              "                }\n",
              "                    \n",
              "                .geemap-colab .jupyter-button {\n",
              "                    --jp-layout-color3: var(--colab-primary-surface-color, white);\n",
              "                }\n",
              "            </style>\n",
              "            "
            ]
          },
          "metadata": {}
        }
      ]
    },
    {
      "cell_type": "code",
      "source": [
        "grid_gdf = gpd.read_file('grid_points_probit.shp')\n",
        "\n",
        "db_50m = grid_gdf.merge(df_50m, on = 'id')\n",
        "db_50m = db_50m.drop(columns = ['id','Unnamed: 0'])\n",
        "\n",
        "db_100m = grid_gdf.merge(df_100m, on = 'id')\n",
        "db_100m = db_100m.drop(columns = ['id','Unnamed: 0'])\n",
        "\n",
        "db_150m = grid_gdf.merge(df_150m, on = 'id')\n",
        "db_150m = db_150m.drop(columns = ['id','Unnamed: 0'])\n",
        "\n",
        "db_200m = grid_gdf.merge(df_200m, on = 'id')\n",
        "db_200m = db_200m.drop(columns = ['id','Unnamed: 0'])"
      ],
      "metadata": {
        "id": "JCLQguwJW_oy",
        "colab": {
          "base_uri": "https://localhost:8080/",
          "height": 17
        },
        "outputId": "59ff13b0-6bac-46b9-eb7c-6516e93e45ed"
      },
      "execution_count": null,
      "outputs": [
        {
          "output_type": "display_data",
          "data": {
            "text/plain": [
              "<IPython.core.display.HTML object>"
            ],
            "text/html": [
              "\n",
              "            <style>\n",
              "                .geemap-dark {\n",
              "                    --jp-widgets-color: white;\n",
              "                    --jp-widgets-label-color: white;\n",
              "                    --jp-ui-font-color1: white;\n",
              "                    --jp-layout-color2: #454545;\n",
              "                    background-color: #383838;\n",
              "                }\n",
              "                    \n",
              "                .geemap-dark .jupyter-button {\n",
              "                    --jp-layout-color3: #383838;\n",
              "                }\n",
              "                \n",
              "                .geemap-colab {\n",
              "                    background-color: var(--colab-primary-surface-color, white);\n",
              "                }\n",
              "                    \n",
              "                .geemap-colab .jupyter-button {\n",
              "                    --jp-layout-color3: var(--colab-primary-surface-color, white);\n",
              "                }\n",
              "            </style>\n",
              "            "
            ]
          },
          "metadata": {}
        }
      ]
    },
    {
      "cell_type": "code",
      "source": [
        "db_200m"
      ],
      "metadata": {
        "colab": {
          "base_uri": "https://localhost:8080/",
          "height": 791
        },
        "id": "kJ3QyqeidMIz",
        "outputId": "e1c060a6-9d84-45a2-b852-34ffb77eda02"
      },
      "execution_count": null,
      "outputs": [
        {
          "output_type": "display_data",
          "data": {
            "text/plain": [
              "<IPython.core.display.HTML object>"
            ],
            "text/html": [
              "\n",
              "            <style>\n",
              "                .geemap-dark {\n",
              "                    --jp-widgets-color: white;\n",
              "                    --jp-widgets-label-color: white;\n",
              "                    --jp-ui-font-color1: white;\n",
              "                    --jp-layout-color2: #454545;\n",
              "                    background-color: #383838;\n",
              "                }\n",
              "                    \n",
              "                .geemap-dark .jupyter-button {\n",
              "                    --jp-layout-color3: #383838;\n",
              "                }\n",
              "                \n",
              "                .geemap-colab {\n",
              "                    background-color: var(--colab-primary-surface-color, white);\n",
              "                }\n",
              "                    \n",
              "                .geemap-colab .jupyter-button {\n",
              "                    --jp-layout-color3: var(--colab-primary-surface-color, white);\n",
              "                }\n",
              "            </style>\n",
              "            "
            ]
          },
          "metadata": {}
        },
        {
          "output_type": "execute_result",
          "data": {
            "text/plain": [
              "                          geometry  burn_scars_edges_distance__SEP_  \\\n",
              "0       POINT (-63.23647 -9.90487)                                0   \n",
              "1      POINT (-63.14906 -10.02297)                                0   \n",
              "2      POINT (-62.53559 -11.05455)                                0   \n",
              "3      POINT (-62.22685 -10.63039)                                0   \n",
              "4      POINT (-61.56292 -12.42399)                                0   \n",
              "...                            ...                              ...   \n",
              "32944  POINT (-61.90157 -10.31213)                                0   \n",
              "32945  POINT (-61.57247 -12.16362)                                0   \n",
              "32946  POINT (-61.95993 -10.13006)                                0   \n",
              "32947  POINT (-62.94059 -10.29249)                                0   \n",
              "32948  POINT (-62.73304 -10.13691)                                0   \n",
              "\n",
              "       land_use_edge_distance__SEP_  roads_distance__SEP_  \\\n",
              "0                                 1                     0   \n",
              "1                                 1                     0   \n",
              "2                                 0                     0   \n",
              "3                                 0                     1   \n",
              "4                                 1                     0   \n",
              "...                             ...                   ...   \n",
              "32944                             0                     1   \n",
              "32945                             1                     0   \n",
              "32946                             1                     0   \n",
              "32947                             1                     0   \n",
              "32948                             1                     0   \n",
              "\n",
              "       lots_edges_distance__SEP_  \n",
              "0                              1  \n",
              "1                              0  \n",
              "2                              1  \n",
              "3                              1  \n",
              "4                              1  \n",
              "...                          ...  \n",
              "32944                          0  \n",
              "32945                          1  \n",
              "32946                          0  \n",
              "32947                          0  \n",
              "32948                          0  \n",
              "\n",
              "[32949 rows x 5 columns]"
            ],
            "text/html": [
              "\n",
              "  <div id=\"df-0ecc60cc-3f8c-4d6b-ae24-18b74a7a87e8\" class=\"colab-df-container\">\n",
              "    <div>\n",
              "<style scoped>\n",
              "    .dataframe tbody tr th:only-of-type {\n",
              "        vertical-align: middle;\n",
              "    }\n",
              "\n",
              "    .dataframe tbody tr th {\n",
              "        vertical-align: top;\n",
              "    }\n",
              "\n",
              "    .dataframe thead th {\n",
              "        text-align: right;\n",
              "    }\n",
              "</style>\n",
              "<table border=\"1\" class=\"dataframe\">\n",
              "  <thead>\n",
              "    <tr style=\"text-align: right;\">\n",
              "      <th></th>\n",
              "      <th>geometry</th>\n",
              "      <th>burn_scars_edges_distance__SEP_</th>\n",
              "      <th>land_use_edge_distance__SEP_</th>\n",
              "      <th>roads_distance__SEP_</th>\n",
              "      <th>lots_edges_distance__SEP_</th>\n",
              "    </tr>\n",
              "  </thead>\n",
              "  <tbody>\n",
              "    <tr>\n",
              "      <th>0</th>\n",
              "      <td>POINT (-63.23647 -9.90487)</td>\n",
              "      <td>0</td>\n",
              "      <td>1</td>\n",
              "      <td>0</td>\n",
              "      <td>1</td>\n",
              "    </tr>\n",
              "    <tr>\n",
              "      <th>1</th>\n",
              "      <td>POINT (-63.14906 -10.02297)</td>\n",
              "      <td>0</td>\n",
              "      <td>1</td>\n",
              "      <td>0</td>\n",
              "      <td>0</td>\n",
              "    </tr>\n",
              "    <tr>\n",
              "      <th>2</th>\n",
              "      <td>POINT (-62.53559 -11.05455)</td>\n",
              "      <td>0</td>\n",
              "      <td>0</td>\n",
              "      <td>0</td>\n",
              "      <td>1</td>\n",
              "    </tr>\n",
              "    <tr>\n",
              "      <th>3</th>\n",
              "      <td>POINT (-62.22685 -10.63039)</td>\n",
              "      <td>0</td>\n",
              "      <td>0</td>\n",
              "      <td>1</td>\n",
              "      <td>1</td>\n",
              "    </tr>\n",
              "    <tr>\n",
              "      <th>4</th>\n",
              "      <td>POINT (-61.56292 -12.42399)</td>\n",
              "      <td>0</td>\n",
              "      <td>1</td>\n",
              "      <td>0</td>\n",
              "      <td>1</td>\n",
              "    </tr>\n",
              "    <tr>\n",
              "      <th>...</th>\n",
              "      <td>...</td>\n",
              "      <td>...</td>\n",
              "      <td>...</td>\n",
              "      <td>...</td>\n",
              "      <td>...</td>\n",
              "    </tr>\n",
              "    <tr>\n",
              "      <th>32944</th>\n",
              "      <td>POINT (-61.90157 -10.31213)</td>\n",
              "      <td>0</td>\n",
              "      <td>0</td>\n",
              "      <td>1</td>\n",
              "      <td>0</td>\n",
              "    </tr>\n",
              "    <tr>\n",
              "      <th>32945</th>\n",
              "      <td>POINT (-61.57247 -12.16362)</td>\n",
              "      <td>0</td>\n",
              "      <td>1</td>\n",
              "      <td>0</td>\n",
              "      <td>1</td>\n",
              "    </tr>\n",
              "    <tr>\n",
              "      <th>32946</th>\n",
              "      <td>POINT (-61.95993 -10.13006)</td>\n",
              "      <td>0</td>\n",
              "      <td>1</td>\n",
              "      <td>0</td>\n",
              "      <td>0</td>\n",
              "    </tr>\n",
              "    <tr>\n",
              "      <th>32947</th>\n",
              "      <td>POINT (-62.94059 -10.29249)</td>\n",
              "      <td>0</td>\n",
              "      <td>1</td>\n",
              "      <td>0</td>\n",
              "      <td>0</td>\n",
              "    </tr>\n",
              "    <tr>\n",
              "      <th>32948</th>\n",
              "      <td>POINT (-62.73304 -10.13691)</td>\n",
              "      <td>0</td>\n",
              "      <td>1</td>\n",
              "      <td>0</td>\n",
              "      <td>0</td>\n",
              "    </tr>\n",
              "  </tbody>\n",
              "</table>\n",
              "<p>32949 rows × 5 columns</p>\n",
              "</div>\n",
              "    <div class=\"colab-df-buttons\">\n",
              "\n",
              "  <div class=\"colab-df-container\">\n",
              "    <button class=\"colab-df-convert\" onclick=\"convertToInteractive('df-0ecc60cc-3f8c-4d6b-ae24-18b74a7a87e8')\"\n",
              "            title=\"Convert this dataframe to an interactive table.\"\n",
              "            style=\"display:none;\">\n",
              "\n",
              "  <svg xmlns=\"http://www.w3.org/2000/svg\" height=\"24px\" viewBox=\"0 -960 960 960\">\n",
              "    <path d=\"M120-120v-720h720v720H120Zm60-500h600v-160H180v160Zm220 220h160v-160H400v160Zm0 220h160v-160H400v160ZM180-400h160v-160H180v160Zm440 0h160v-160H620v160ZM180-180h160v-160H180v160Zm440 0h160v-160H620v160Z\"/>\n",
              "  </svg>\n",
              "    </button>\n",
              "\n",
              "  <style>\n",
              "    .colab-df-container {\n",
              "      display:flex;\n",
              "      gap: 12px;\n",
              "    }\n",
              "\n",
              "    .colab-df-convert {\n",
              "      background-color: #E8F0FE;\n",
              "      border: none;\n",
              "      border-radius: 50%;\n",
              "      cursor: pointer;\n",
              "      display: none;\n",
              "      fill: #1967D2;\n",
              "      height: 32px;\n",
              "      padding: 0 0 0 0;\n",
              "      width: 32px;\n",
              "    }\n",
              "\n",
              "    .colab-df-convert:hover {\n",
              "      background-color: #E2EBFA;\n",
              "      box-shadow: 0px 1px 2px rgba(60, 64, 67, 0.3), 0px 1px 3px 1px rgba(60, 64, 67, 0.15);\n",
              "      fill: #174EA6;\n",
              "    }\n",
              "\n",
              "    .colab-df-buttons div {\n",
              "      margin-bottom: 4px;\n",
              "    }\n",
              "\n",
              "    [theme=dark] .colab-df-convert {\n",
              "      background-color: #3B4455;\n",
              "      fill: #D2E3FC;\n",
              "    }\n",
              "\n",
              "    [theme=dark] .colab-df-convert:hover {\n",
              "      background-color: #434B5C;\n",
              "      box-shadow: 0px 1px 3px 1px rgba(0, 0, 0, 0.15);\n",
              "      filter: drop-shadow(0px 1px 2px rgba(0, 0, 0, 0.3));\n",
              "      fill: #FFFFFF;\n",
              "    }\n",
              "  </style>\n",
              "\n",
              "    <script>\n",
              "      const buttonEl =\n",
              "        document.querySelector('#df-0ecc60cc-3f8c-4d6b-ae24-18b74a7a87e8 button.colab-df-convert');\n",
              "      buttonEl.style.display =\n",
              "        google.colab.kernel.accessAllowed ? 'block' : 'none';\n",
              "\n",
              "      async function convertToInteractive(key) {\n",
              "        const element = document.querySelector('#df-0ecc60cc-3f8c-4d6b-ae24-18b74a7a87e8');\n",
              "        const dataTable =\n",
              "          await google.colab.kernel.invokeFunction('convertToInteractive',\n",
              "                                                    [key], {});\n",
              "        if (!dataTable) return;\n",
              "\n",
              "        const docLinkHtml = 'Like what you see? Visit the ' +\n",
              "          '<a target=\"_blank\" href=https://colab.research.google.com/notebooks/data_table.ipynb>data table notebook</a>'\n",
              "          + ' to learn more about interactive tables.';\n",
              "        element.innerHTML = '';\n",
              "        dataTable['output_type'] = 'display_data';\n",
              "        await google.colab.output.renderOutput(dataTable, element);\n",
              "        const docLink = document.createElement('div');\n",
              "        docLink.innerHTML = docLinkHtml;\n",
              "        element.appendChild(docLink);\n",
              "      }\n",
              "    </script>\n",
              "  </div>\n",
              "\n",
              "\n",
              "<div id=\"df-0db02a2d-72ce-49e8-b120-43e713a52e24\">\n",
              "  <button class=\"colab-df-quickchart\" onclick=\"quickchart('df-0db02a2d-72ce-49e8-b120-43e713a52e24')\"\n",
              "            title=\"Suggest charts.\"\n",
              "            style=\"display:none;\">\n",
              "\n",
              "<svg xmlns=\"http://www.w3.org/2000/svg\" height=\"24px\"viewBox=\"0 0 24 24\"\n",
              "     width=\"24px\">\n",
              "    <g>\n",
              "        <path d=\"M19 3H5c-1.1 0-2 .9-2 2v14c0 1.1.9 2 2 2h14c1.1 0 2-.9 2-2V5c0-1.1-.9-2-2-2zM9 17H7v-7h2v7zm4 0h-2V7h2v10zm4 0h-2v-4h2v4z\"/>\n",
              "    </g>\n",
              "</svg>\n",
              "  </button>\n",
              "\n",
              "<style>\n",
              "  .colab-df-quickchart {\n",
              "      --bg-color: #E8F0FE;\n",
              "      --fill-color: #1967D2;\n",
              "      --hover-bg-color: #E2EBFA;\n",
              "      --hover-fill-color: #174EA6;\n",
              "      --disabled-fill-color: #AAA;\n",
              "      --disabled-bg-color: #DDD;\n",
              "  }\n",
              "\n",
              "  [theme=dark] .colab-df-quickchart {\n",
              "      --bg-color: #3B4455;\n",
              "      --fill-color: #D2E3FC;\n",
              "      --hover-bg-color: #434B5C;\n",
              "      --hover-fill-color: #FFFFFF;\n",
              "      --disabled-bg-color: #3B4455;\n",
              "      --disabled-fill-color: #666;\n",
              "  }\n",
              "\n",
              "  .colab-df-quickchart {\n",
              "    background-color: var(--bg-color);\n",
              "    border: none;\n",
              "    border-radius: 50%;\n",
              "    cursor: pointer;\n",
              "    display: none;\n",
              "    fill: var(--fill-color);\n",
              "    height: 32px;\n",
              "    padding: 0;\n",
              "    width: 32px;\n",
              "  }\n",
              "\n",
              "  .colab-df-quickchart:hover {\n",
              "    background-color: var(--hover-bg-color);\n",
              "    box-shadow: 0 1px 2px rgba(60, 64, 67, 0.3), 0 1px 3px 1px rgba(60, 64, 67, 0.15);\n",
              "    fill: var(--button-hover-fill-color);\n",
              "  }\n",
              "\n",
              "  .colab-df-quickchart-complete:disabled,\n",
              "  .colab-df-quickchart-complete:disabled:hover {\n",
              "    background-color: var(--disabled-bg-color);\n",
              "    fill: var(--disabled-fill-color);\n",
              "    box-shadow: none;\n",
              "  }\n",
              "\n",
              "  .colab-df-spinner {\n",
              "    border: 2px solid var(--fill-color);\n",
              "    border-color: transparent;\n",
              "    border-bottom-color: var(--fill-color);\n",
              "    animation:\n",
              "      spin 1s steps(1) infinite;\n",
              "  }\n",
              "\n",
              "  @keyframes spin {\n",
              "    0% {\n",
              "      border-color: transparent;\n",
              "      border-bottom-color: var(--fill-color);\n",
              "      border-left-color: var(--fill-color);\n",
              "    }\n",
              "    20% {\n",
              "      border-color: transparent;\n",
              "      border-left-color: var(--fill-color);\n",
              "      border-top-color: var(--fill-color);\n",
              "    }\n",
              "    30% {\n",
              "      border-color: transparent;\n",
              "      border-left-color: var(--fill-color);\n",
              "      border-top-color: var(--fill-color);\n",
              "      border-right-color: var(--fill-color);\n",
              "    }\n",
              "    40% {\n",
              "      border-color: transparent;\n",
              "      border-right-color: var(--fill-color);\n",
              "      border-top-color: var(--fill-color);\n",
              "    }\n",
              "    60% {\n",
              "      border-color: transparent;\n",
              "      border-right-color: var(--fill-color);\n",
              "    }\n",
              "    80% {\n",
              "      border-color: transparent;\n",
              "      border-right-color: var(--fill-color);\n",
              "      border-bottom-color: var(--fill-color);\n",
              "    }\n",
              "    90% {\n",
              "      border-color: transparent;\n",
              "      border-bottom-color: var(--fill-color);\n",
              "    }\n",
              "  }\n",
              "</style>\n",
              "\n",
              "  <script>\n",
              "    async function quickchart(key) {\n",
              "      const quickchartButtonEl =\n",
              "        document.querySelector('#' + key + ' button');\n",
              "      quickchartButtonEl.disabled = true;  // To prevent multiple clicks.\n",
              "      quickchartButtonEl.classList.add('colab-df-spinner');\n",
              "      try {\n",
              "        const charts = await google.colab.kernel.invokeFunction(\n",
              "            'suggestCharts', [key], {});\n",
              "      } catch (error) {\n",
              "        console.error('Error during call to suggestCharts:', error);\n",
              "      }\n",
              "      quickchartButtonEl.classList.remove('colab-df-spinner');\n",
              "      quickchartButtonEl.classList.add('colab-df-quickchart-complete');\n",
              "    }\n",
              "    (() => {\n",
              "      let quickchartButtonEl =\n",
              "        document.querySelector('#df-0db02a2d-72ce-49e8-b120-43e713a52e24 button');\n",
              "      quickchartButtonEl.style.display =\n",
              "        google.colab.kernel.accessAllowed ? 'block' : 'none';\n",
              "    })();\n",
              "  </script>\n",
              "</div>\n",
              "    </div>\n",
              "  </div>\n"
            ]
          },
          "metadata": {},
          "execution_count": 53
        }
      ]
    },
    {
      "cell_type": "code",
      "source": [
        "db_50m_ = db_50m[db_50m['burn_scars_edges_distance__'+month+'_'] > 0]\n",
        "db_100m_ = db_100m[db_100m['burn_scars_edges_distance__'+month+'_'] > 0]\n",
        "db_150m_ = db_150m[db_150m['burn_scars_edges_distance__'+month+'_'] > 0]\n",
        "db_200m_ = db_200m[db_200m['burn_scars_edges_distance__'+month+'_'] > 0]"
      ],
      "metadata": {
        "id": "dQ8YyWbPXB_r",
        "colab": {
          "base_uri": "https://localhost:8080/",
          "height": 17
        },
        "outputId": "bf3a6fb3-3604-4f63-a658-b7688df1d927"
      },
      "execution_count": null,
      "outputs": [
        {
          "output_type": "display_data",
          "data": {
            "text/plain": [
              "<IPython.core.display.HTML object>"
            ],
            "text/html": [
              "\n",
              "            <style>\n",
              "                .geemap-dark {\n",
              "                    --jp-widgets-color: white;\n",
              "                    --jp-widgets-label-color: white;\n",
              "                    --jp-ui-font-color1: white;\n",
              "                    --jp-layout-color2: #454545;\n",
              "                    background-color: #383838;\n",
              "                }\n",
              "                    \n",
              "                .geemap-dark .jupyter-button {\n",
              "                    --jp-layout-color3: #383838;\n",
              "                }\n",
              "                \n",
              "                .geemap-colab {\n",
              "                    background-color: var(--colab-primary-surface-color, white);\n",
              "                }\n",
              "                    \n",
              "                .geemap-colab .jupyter-button {\n",
              "                    --jp-layout-color3: var(--colab-primary-surface-color, white);\n",
              "                }\n",
              "            </style>\n",
              "            "
            ]
          },
          "metadata": {}
        }
      ]
    },
    {
      "cell_type": "code",
      "source": [
        "db_50m_['lon'] = db_50m_['geometry'].x\n",
        "db_50m_['lat'] = db_50m_['geometry'].y\n",
        "\n",
        "db_100m_['lon'] = db_100m_['geometry'].x\n",
        "db_100m_['lat'] = db_100m_['geometry'].y\n",
        "\n",
        "db_150m_['lon'] = db_150m_['geometry'].x\n",
        "db_150m_['lat'] = db_150m_['geometry'].y\n",
        "\n",
        "db_200m_['lon'] = db_200m_['geometry'].x\n",
        "db_200m_['lat'] = db_200m_['geometry'].y"
      ],
      "metadata": {
        "id": "9eyyrWQuXEGj"
      },
      "execution_count": null,
      "outputs": []
    },
    {
      "cell_type": "code",
      "source": [
        "db_50m_.to_csv('PROBIT_spreg_csv_lat_long/'+str(year)+'/'+str(distance_month_subset_50)+'_m_df'+month+str(year)+'.csv')\n",
        "db_100m_.to_csv('PROBIT_spreg_csv_lat_long/'+str(year)+'/'+str(distance_month_subset_100)+'_m_df'+month+str(year)+'.csv')\n",
        "db_150m_.to_csv('PROBIT_spreg_csv_lat_long/'+str(year)+'/'+str(distance_month_subset_150)+'_m_df'+month+str(year)+'.csv')\n",
        "db_200m_.to_csv('PROBIT_spreg_csv_lat_long/'+str(year)+'/'+str(distance_month_subset_200)+'_m_df'+month+str(year)+'.csv')"
      ],
      "metadata": {
        "id": "ppTaRIBcXGbF",
        "colab": {
          "base_uri": "https://localhost:8080/",
          "height": 17
        },
        "outputId": "5724a82b-e53b-4e66-8e86-dcca400e6441"
      },
      "execution_count": null,
      "outputs": [
        {
          "output_type": "display_data",
          "data": {
            "text/plain": [
              "<IPython.core.display.HTML object>"
            ],
            "text/html": [
              "\n",
              "            <style>\n",
              "                .geemap-dark {\n",
              "                    --jp-widgets-color: white;\n",
              "                    --jp-widgets-label-color: white;\n",
              "                    --jp-ui-font-color1: white;\n",
              "                    --jp-layout-color2: #454545;\n",
              "                    background-color: #383838;\n",
              "                }\n",
              "                    \n",
              "                .geemap-dark .jupyter-button {\n",
              "                    --jp-layout-color3: #383838;\n",
              "                }\n",
              "                \n",
              "                .geemap-colab {\n",
              "                    background-color: var(--colab-primary-surface-color, white);\n",
              "                }\n",
              "                    \n",
              "                .geemap-colab .jupyter-button {\n",
              "                    --jp-layout-color3: var(--colab-primary-surface-color, white);\n",
              "                }\n",
              "            </style>\n",
              "            "
            ]
          },
          "metadata": {}
        }
      ]
    },
    {
      "cell_type": "code",
      "source": [
        "db_50m_.to_file('PROBIT_spreg_csv_lat_long/'+str(year)+'/'+str(distance_month_subset_50)+'_m_df'+month+str(year)+'.shp')\n",
        "db_100m_.to_file('PROBIT_spreg_csv_lat_long/'+str(year)+'/'+str(distance_month_subset_100)+'_m_df'+month+str(year)+'.shp')\n",
        "db_150m_.to_file('PROBIT_spreg_csv_lat_long/'+str(year)+'/'+str(distance_month_subset_150)+'_m_df'+month+str(year)+'.shp')\n",
        "db_200m_.to_file('PROBIT_spreg_csv_lat_long/'+str(year)+'/'+str(distance_month_subset_200)+'_m_df'+month+str(year)+'.shp')"
      ],
      "metadata": {
        "id": "N6SmN-GGXIMB"
      },
      "execution_count": null,
      "outputs": []
    },
    {
      "cell_type": "markdown",
      "metadata": {
        "id": "2-pHyT-qNpAz"
      },
      "source": [
        "## **Monthly subsets - all jul, aug, and sep**"
      ]
    },
    {
      "cell_type": "code",
      "source": [
        "lots = ee.FeatureCollection('users/moreirarmt/Total_Lots_NewID_dissolve')\n",
        "grid = ee.FeatureCollection('projects/ee-rodrigomoreira/assets/grid_pontos_Project_US_100000')\n",
        "grid_small = ee.FeatureCollection('projects/ee-rodrigomoreira/assets/grid_pontos_Project_US')\n",
        "\n",
        "distance_month_subset = 50\n",
        "distance = distance_month_subset\n",
        "distance_kernel = 15000\n",
        "kernel = ee.Kernel.euclidean(distance_kernel, 'meters')\n",
        "year = str(2020)\n",
        "\n",
        "\n",
        "##Land use\n",
        "land_use = ee.Image('projects/mapbiomas-workspace/public/collection7/mapbiomas_collection70_integration_v2')\\\n",
        "                .select('classification_'+year).clip(lots)\n",
        "land_use = ee.Image(land_use)\n",
        "edges_land_use = ee.Algorithms.CannyEdgeDetector(land_use, 0)\n",
        "edges_land_use_reclass = edges_land_use.gt(0).clip(lots)\n",
        "#edges_land_use.gte(0).And(edges_land_use.lte(distance), 1).where(edges_land_use.gt(distance + 0.1).And(edges_land_use.lte(distance_kernel), 0)),\n",
        "edges_land_use_reclass_distance  = edges_land_use_reclass.distance(kernel, False).lte(distance).clip(lots)\n",
        "\n",
        "\n",
        "##Roads\n",
        "roads_ro = ee.FeatureCollection(\"projects/ee-moreirarmt/assets/Roads_RO\")\n",
        "roads_distance = roads_ro.distance(distance_kernel)\n",
        "roads_dist_reclass = ee.Image(roads_distance).lte(distance).clip(lots)\n",
        "\n",
        "##Lots\n",
        "lots_edges = ee.FeatureCollection('users/moreirarmt/Total_Lots_NewID')\n",
        "lots_edges_distance = lots_edges.distance(searchRadius = distance_kernel, maxError = 1).lte(distance).clip(lots)\n",
        "\n",
        "\n",
        "##Burn scars\n",
        "burn_scars_JUL_2019 = ee.Image('projects/ee-moreirarmt/assets/Project_US_focalmode_5/PROJ_US_RF_JUL_2019_focal_5')\n",
        "burn_scars_AUG_2019 = ee.Image('projects/ee-moreirarmt/assets/Project_US_focalmode_5/PROJ_US_RF_AUG_2019_focal_5')\n",
        "burn_scars_SEP_2019 = ee.Image('projects/ee-moreirarmt/assets/Project_US_focalmode_5/PROJ_US_RF_SEP_2019_focal_5')\n",
        "burn_scars_JUL_2020 = ee.Image('projects/ee-moreirarmt/assets/Project_US_focalmode_5/PROJ_US_RF_JUL_2020_focal_5')\n",
        "burn_scars_AUG_2020 = ee.Image('projects/ee-moreirarmt/assets/Project_US_focalmode_5/PROJ_US_RF_AUG_2020_focal_5')\n",
        "burn_scars_SEP_2020 = ee.Image('projects/ee-moreirarmt/assets/Project_US_focalmode_5/PROJ_US_RF_SEP_2020_focal_5')\n",
        "burn_scars_JUL_2021 = ee.Image('projects/ee-moreirarmt/assets/Project_US_focalmode_5/PROJ_US_RF_JUL_2021_focal_5')\n",
        "burn_scars_AUG_2021 = ee.Image('projects/ee-moreirarmt/assets/Project_US_focalmode_5/PROJ_US_RF_AUG_2021_focal_5')\n",
        "burn_scars_SEP_2021 = ee.Image('projects/ee-moreirarmt/assets/Project_US_focalmode_5/PROJ_US_RF_SEP_2021_focal_5')"
      ],
      "metadata": {
        "id": "dG_WPy9C3WGB"
      },
      "execution_count": null,
      "outputs": []
    },
    {
      "cell_type": "code",
      "source": [
        "merge_burn_scars_jul = burn_scars_JUL_2019.add(burn_scars_JUL_2020).add(burn_scars_JUL_2021)\n",
        "\n",
        "\n",
        "burn_scars_edges_jul = ee.Algorithms.CannyEdgeDetector(merge_burn_scars_jul,0).gt(0)\n",
        "\n",
        "merge_burn_scars_reclass_jul = ee.Image(1)\\\n",
        "                            .where(merge_burn_scars_jul.gte(1).And(merge_burn_scars_jul.lte(4)), 1);\n",
        "\n",
        "kernel_burn_scars_jul = ee.Kernel.euclidean(5000, 'meters')\n",
        "\n",
        "burn_scars_edges_distance_jul = burn_scars_edges_jul.distance(kernel_burn_scars_jul).lte(distance).clip(lots)\n",
        "\n",
        "burn_scars_edges_within_excluded_jul = merge_burn_scars_reclass_jul.add(burn_scars_edges_distance_jul).eq(2)\n",
        "\n",
        "burn_scars_edges_within_excluded_reclass_to_2_jul = burn_scars_edges_within_excluded_jul\\\n",
        "                                                    .where(merge_burn_scars_jul.gt(0), 2)\n",
        "\n",
        "images_combined_jul = roads_dist_reclass.addBands(edges_land_use_reclass_distance)\\\n",
        "                                    .addBands(burn_scars_edges_within_excluded_reclass_to_2_jul)\\\n",
        "                                    .addBands(lots_edges_distance)\\\n",
        "                                    .rename(['roads_distance', 'land_use_edge_distance',\n",
        "                                             'burn_scars_edges_distance_jul', 'lots_edges_distance'])\n",
        "\n",
        "\n",
        "extracted_values_jul = images_combined_jul.sampleRegions(collection = grid,\n",
        "                                                 scale = 60)\n",
        "grid_df_jul = geemap.ee_to_pandas(grid_small)\n",
        "\n",
        "sample_result_jul = extracted_values_jul.first().getInfo()\n",
        "\n",
        "columns_jul = list(sample_result_jul['properties'].keys())\n",
        "column_df_jul = list(grid_df_jul.columns)\n",
        "column_df_jul.extend(['burn_scars_edges_distance_jul', 'land_use_edge_distance', 'roads_distance', 'lots_edges_distance'])\n",
        "\n",
        "nested_list_jul = extracted_values_jul.reduceColumns(ee.Reducer.toList(len(column_df_jul)), column_df_jul).values().get(0)\n",
        "data_jul = nested_list_jul.getInfo()\n",
        "data_jul\n",
        "df_jul = pd.DataFrame(data_jul, columns = column_df_jul)\n",
        "pd.DataFrame.to_csv(df_jul, 'extract_values_covariates_burn_edges_'+str(distance_month_subset)+'_m_df_JUL.csv')"
      ],
      "metadata": {
        "id": "h2J0mz2e3dzX"
      },
      "execution_count": null,
      "outputs": []
    },
    {
      "cell_type": "code",
      "source": [
        "merge_burn_scars_aug = burn_scars_AUG_2019.add(burn_scars_AUG_2020).add(burn_scars_AUG_2021)\n",
        "\n",
        "\n",
        "burn_scars_edges_aug = ee.Algorithms.CannyEdgeDetector(merge_burn_scars_aug,0).gt(0)\n",
        "\n",
        "merge_burn_scars_reclass_aug = ee.Image(1)\\\n",
        "                            .where(merge_burn_scars_aug.gte(1).And(merge_burn_scars_aug.lte(4)), 1);\n",
        "\n",
        "kernel_burn_scars_aug = ee.Kernel.euclidean(5000, 'meters')\n",
        "\n",
        "burn_scars_edges_distance_aug = burn_scars_edges_aug.distance(kernel_burn_scars_aug).lte(distance).clip(lots)\n",
        "\n",
        "burn_scars_edges_within_excluded_aug = merge_burn_scars_reclass_aug.add(burn_scars_edges_distance_aug).eq(2)\n",
        "\n",
        "burn_scars_edges_within_excluded_reclass_to_2_aug = burn_scars_edges_within_excluded_aug\\\n",
        "                                                    .where(merge_burn_scars_aug.gt(0), 2)\n",
        "\n",
        "images_combined_aug = roads_dist_reclass.addBands(edges_land_use_reclass_distance)\\\n",
        "                                    .addBands(burn_scars_edges_within_excluded_reclass_to_2_aug)\\\n",
        "                                    .addBands(lots_edges_distance)\\\n",
        "                                    .rename(['roads_distance', 'land_use_edge_distance',\n",
        "                                             'burn_scars_edges_distance_aug', 'lots_edges_distance'])\n",
        "\n",
        "\n",
        "extracted_values_aug = images_combined_aug.sampleRegions(collection = grid,\n",
        "                                                 scale = 60)\n",
        "grid_df_aug = geemap.ee_to_pandas(grid_small)\n",
        "\n",
        "sample_result_aug = extracted_values_aug.first().getInfo()\n",
        "\n",
        "columns_aug = list(sample_result_aug['properties'].keys())\n",
        "column_df_aug = list(grid_df_aug.columns)\n",
        "column_df_aug.extend(['burn_scars_edges_distance_aug', 'land_use_edge_distance', 'roads_distance', 'lots_edges_distance'])\n",
        "\n",
        "nested_list_aug = extracted_values_aug.reduceColumns(ee.Reducer.toList(len(column_df_aug)), column_df_aug).values().get(0)\n",
        "data_aug = nested_list_aug.getInfo()\n",
        "data_aug\n",
        "df_aug = pd.DataFrame(data_aug, columns = column_df_aug)\n",
        "pd.DataFrame.to_csv(df_aug, 'extract_values_covariates_burn_edges_'+str(distance_month_subset)+'_m_df_AUG.csv')"
      ],
      "metadata": {
        "id": "Eu2hYFsu4XsZ"
      },
      "execution_count": null,
      "outputs": []
    },
    {
      "cell_type": "code",
      "source": [
        "merge_burn_scars_sep = burn_scars_SEP_2019.add(burn_scars_SEP_2020).add(burn_scars_SEP_2021)\n",
        "\n",
        "\n",
        "burn_scars_edges_sep = ee.Algorithms.CannyEdgeDetector(merge_burn_scars_sep,0).gt(0)\n",
        "\n",
        "merge_burn_scars_reclass_sep = ee.Image(1)\\\n",
        "                            .where(merge_burn_scars_sep.gte(1).And(merge_burn_scars_sep.lte(4)), 1);\n",
        "\n",
        "kernel_burn_scars_sep = ee.Kernel.euclidean(5000, 'meters')\n",
        "\n",
        "burn_scars_edges_distance_sep = burn_scars_edges_sep.distance(kernel_burn_scars_sep).lte(distance).clip(lots)\n",
        "\n",
        "burn_scars_edges_within_excluded_sep = merge_burn_scars_reclass_sep.add(burn_scars_edges_distance_sep).eq(2)\n",
        "\n",
        "burn_scars_edges_within_excluded_reclass_to_2_sep = burn_scars_edges_within_excluded_sep\\\n",
        "                                                    .where(merge_burn_scars_sep.gt(0), 2)\n",
        "\n",
        "images_combined_sep = roads_dist_reclass.addBands(edges_land_use_reclass_distance)\\\n",
        "                                    .addBands(burn_scars_edges_within_excluded_reclass_to_2_sep)\\\n",
        "                                    .addBands(lots_edges_distance)\\\n",
        "                                    .rename(['roads_distance', 'land_use_edge_distance',\n",
        "                                             'burn_scars_edges_distance_sep', 'lots_edges_distance'])\n",
        "\n",
        "\n",
        "extracted_values_sep = images_combined_sep.sampleRegions(collection = grid,\n",
        "                                                 scale = 60)\n",
        "grid_df_sep = geemap.ee_to_pandas(grid_small)\n",
        "\n",
        "sample_result_sep = extracted_values_sep.first().getInfo()\n",
        "\n",
        "columns_sep = list(sample_result_sep['properties'].keys())\n",
        "column_df_sep = list(grid_df_sep.columns)\n",
        "column_df_sep.extend(['burn_scars_edges_distance_sep', 'land_use_edge_distance', 'roads_distance', 'lots_edges_distance'])\n",
        "\n",
        "nested_list_sep = extracted_values_sep.reduceColumns(ee.Reducer.toList(len(column_df_sep)), column_df_sep).values().get(0)\n",
        "data_sep = nested_list_sep.getInfo()\n",
        "data_sep\n",
        "df_sep = pd.DataFrame(data_sep, columns = column_df_sep)\n",
        "pd.DataFrame.to_csv(df_sep, 'extract_values_covariates_burn_edges_'+str(distance_month_subset)+'_m_df_SEP.csv')"
      ],
      "metadata": {
        "id": "Ebt2I63J4vDS"
      },
      "execution_count": null,
      "outputs": []
    },
    {
      "cell_type": "markdown",
      "metadata": {
        "id": "Y64qhu8QuyWp"
      },
      "source": [
        "## **Extract the raster data per points**\n"
      ]
    },
    {
      "cell_type": "code",
      "execution_count": null,
      "metadata": {
        "id": "6aEe-dLoVPGl",
        "colab": {
          "base_uri": "https://localhost:8080/",
          "height": 17
        },
        "outputId": "ad8105c3-76aa-450b-9b41-6b1e2df63e89"
      },
      "outputs": [
        {
          "output_type": "display_data",
          "data": {
            "text/plain": [
              "<IPython.core.display.HTML object>"
            ],
            "text/html": [
              "\n",
              "            <style>\n",
              "                .geemap-dark {\n",
              "                    --jp-widgets-color: white;\n",
              "                    --jp-widgets-label-color: white;\n",
              "                    --jp-ui-font-color1: white;\n",
              "                    --jp-layout-color2: #454545;\n",
              "                    background-color: #383838;\n",
              "                }\n",
              "                    \n",
              "                .geemap-dark .jupyter-button {\n",
              "                    --jp-layout-color3: #383838;\n",
              "                }\n",
              "                \n",
              "                .geemap-colab {\n",
              "                    background-color: var(--colab-primary-surface-color, white);\n",
              "                }\n",
              "                    \n",
              "                .geemap-colab .jupyter-button {\n",
              "                    --jp-layout-color3: var(--colab-primary-surface-color, white);\n",
              "                }\n",
              "            </style>\n",
              "            "
            ]
          },
          "metadata": {}
        }
      ],
      "source": [
        "lots = ee.FeatureCollection('users/moreirarmt/Total_Lots_NewID_dissolve')\n",
        "grid = ee.FeatureCollection('projects/ee-rodrigomoreira/assets/grid_pontos_Project_US_100000')\n",
        "grid_small = ee.FeatureCollection('projects/ee-rodrigomoreira/assets/grid_pontos_Project_US')\n",
        "\n",
        "\n",
        "distance = 150\n",
        "distance_kernel = 15000\n",
        "kernel = ee.Kernel.euclidean(distance_kernel, 'meters')\n",
        "year = str(2020)\n",
        "\n",
        "\n",
        "##Land use\n",
        "land_use = ee.Image('projects/mapbiomas-workspace/public/collection7/mapbiomas_collection70_integration_v2')\\\n",
        "                .select('classification_'+year).clip(lots)\n",
        "land_use = ee.Image(land_use)\n",
        "edges_land_use = ee.Algorithms.CannyEdgeDetector(land_use, 0)\n",
        "edges_land_use_reclass = edges_land_use.gt(0).clip(lots)\n",
        "#edges_land_use.gte(0).And(edges_land_use.lte(distance), 1).where(edges_land_use.gt(distance + 0.1).And(edges_land_use.lte(distance_kernel), 0)),\n",
        "edges_land_use_reclass_distance  = edges_land_use_reclass.distance(kernel, False).lte(distance).clip(lots)\n",
        "\n",
        "\n",
        "##Roads\n",
        "roads_ro = ee.FeatureCollection(\"projects/ee-moreirarmt/assets/Roads_RO\")\n",
        "roads_distance = roads_ro.distance(distance_kernel)\n",
        "roads_dist_reclass = ee.Image(roads_distance).lte(distance).clip(lots)\n",
        "\n",
        "\n",
        "##Burn scars\n",
        "burn_scars_JUL_2019 = ee.Image('projects/ee-moreirarmt/assets/Project_US_focalmode_5/PROJ_US_RF_JUL_2019_focal_5')\n",
        "burn_scars_AUG_2019 = ee.Image('projects/ee-moreirarmt/assets/Project_US_focalmode_5/PROJ_US_RF_AUG_2019_focal_5')\n",
        "burn_scars_SEP_2019 = ee.Image('projects/ee-moreirarmt/assets/Project_US_focalmode_5/PROJ_US_RF_SEP_2019_focal_5')\n",
        "burn_scars_JUL_2020 = ee.Image('projects/ee-moreirarmt/assets/Project_US_focalmode_5/PROJ_US_RF_JUL_2020_focal_5')\n",
        "burn_scars_AUG_2020 = ee.Image('projects/ee-moreirarmt/assets/Project_US_focalmode_5/PROJ_US_RF_AUG_2020_focal_5')\n",
        "burn_scars_SEP_2020 = ee.Image('projects/ee-moreirarmt/assets/Project_US_focalmode_5/PROJ_US_RF_SEP_2020_focal_5')\n",
        "burn_scars_JUL_2021 = ee.Image('projects/ee-moreirarmt/assets/Project_US_focalmode_5/PROJ_US_RF_JUL_2021_focal_5')\n",
        "burn_scars_AUG_2021 = ee.Image('projects/ee-moreirarmt/assets/Project_US_focalmode_5/PROJ_US_RF_AUG_2021_focal_5')\n",
        "burn_scars_SEP_2021 = ee.Image('projects/ee-moreirarmt/assets/Project_US_focalmode_5/PROJ_US_RF_SEP_2021_focal_5')\n",
        "burn_scars_JUL_2022 = ee.Image('projects/ee-moreirarmt/assets/Project_US_focalmode_5/PROJ_US_RF_JUL_2022_focal_5')\n",
        "burn_scars_AUG_2022 = ee.Image('projects/ee-moreirarmt/assets/Project_US_focalmode_5/PROJ_US_RF_AUG_2022_focal_5')\n",
        "burn_scars_SEP_2022 = ee.Image('projects/ee-moreirarmt/assets/Project_US_focalmode_5/PROJ_US_RF_SEP_2022_focal_5')\n",
        "# burn_scars_JUL_2023 = ee.Image('projects/ee-moreirarmt/assets/Project_US_focalmode_5/PROJ_US_RF_JUL_2023_focal_5')\n",
        "burn_scars_AUG_2023 = ee.Image('projects/ee-moreirarmt/assets/Project_US_focalmode_5/PROJ_US_RF_AUG_2023_focal_5')\n",
        "burn_scars_SEP_2023 = ee.Image('projects/ee-moreirarmt/assets/Project_US_focalmode_5/PROJ_US_RF_SEP_2023_focal_5')\n",
        "\n",
        "merge_burn_scars = burn_scars_JUL_2019.add(burn_scars_AUG_2019).add(burn_scars_SEP_2019)\\\n",
        "                                .add(burn_scars_JUL_2020).add(burn_scars_AUG_2020).add(burn_scars_SEP_2020)\\\n",
        "                                .add(burn_scars_JUL_2021).add(burn_scars_AUG_2021).add(burn_scars_SEP_2021)\\\n",
        "                                .add(burn_scars_JUL_2022).add(burn_scars_AUG_2022).add(burn_scars_SEP_2022)\\\n",
        "                                # .add(burn_scars_JUL_2023)\n",
        "                                .add(burn_scars_AUG_2023).add(burn_scars_SEP_2023)\n",
        "\n",
        "\n",
        "burn_scars_edges = ee.Algorithms.CannyEdgeDetector(merge_burn_scars,0).gt(0)\n",
        "\n",
        "merge_burn_scars_reclass = ee.Image(1)\\\n",
        "                            .where(merge_burn_scars.gte(1).And(merge_burn_scars.lte(4)), 1);\n",
        "\n",
        "kernel_burn_scars = ee.Kernel.euclidean(5000, 'meters')\n",
        "\n",
        "burn_scars_edges_distance = burn_scars_edges.distance(kernel_burn_scars).lte(distance).clip(lots)\n",
        "\n",
        "burn_scars_edges_within_excluded = merge_burn_scars_reclass.add(burn_scars_edges_distance).eq(2)\n",
        "\n",
        "burn_scars_edges_within_excluded_reclass_to_2 = burn_scars_edges_within_excluded\\\n",
        "                                                    .where(merge_burn_scars.gt(0), 2)\n",
        "\n",
        "##Lots\n",
        "lots_edges = ee.FeatureCollection('users/moreirarmt/Total_Lots_NewID')\n",
        "lots_edges_distance = lots_edges.distance(searchRadius = distance_kernel, maxError = 1).lte(distance).clip(lots)\n",
        "\n",
        "##Stack all images\n",
        "images_combined = roads_dist_reclass.addBands(edges_land_use_reclass_distance)\\\n",
        "                                    .addBands(burn_scars_edges_within_excluded_reclass_to_2)\\\n",
        "                                    .addBands(lots_edges_distance)\\\n",
        "                                    .rename(['roads_distance', 'land_use_edge_distance',\n",
        "                                             'burn_scars_edges_distance', 'lots_edges_distance'])"
      ]
    },
    {
      "cell_type": "code",
      "execution_count": null,
      "metadata": {
        "colab": {
          "base_uri": "https://localhost:8080/"
        },
        "id": "lvaJr7WKxAgm",
        "outputId": "f9558e4d-39af-4900-805d-1aebf6b4234d"
      },
      "outputs": [
        {
          "output_type": "stream",
          "name": "stdout",
          "text": [
            "{'type': 'Feature', 'geometry': None, 'id': '00000000000000000000_0', 'properties': {'burn_scars_edges_distance': 0, 'fid': 1, 'id': 0, 'land_use_edge_distance': 1, 'lots_edges_distance': 0, 'roads_distance': 0}}\n"
          ]
        }
      ],
      "source": [
        "extracted_values = images_combined.sampleRegions(collection = grid,\n",
        "                                                 scale = 10)\n",
        "print(extracted_values.first().getInfo())\n",
        "grid_df = geemap.ee_to_pandas(grid_small)"
      ]
    },
    {
      "cell_type": "code",
      "execution_count": null,
      "metadata": {
        "colab": {
          "base_uri": "https://localhost:8080/"
        },
        "id": "1YMNFHR007V2",
        "outputId": "2e766908-6cfa-4030-b6d3-3bb9c1b0bb7c"
      },
      "outputs": [
        {
          "output_type": "stream",
          "name": "stdout",
          "text": [
            "['id', 'burn_scars_edges_distance', 'land_use_edge_distance', 'roads_distance', 'lots_edges_distance']\n"
          ]
        }
      ],
      "source": [
        "sample_result = extracted_values.first().getInfo()\n",
        "\n",
        "columns = list(sample_result['properties'].keys())\n",
        "column_df = list(grid_df.columns)\n",
        "column_df.extend(['burn_scars_edges_distance', 'land_use_edge_distance', 'roads_distance', 'lots_edges_distance'])\n",
        "print(column_df)"
      ]
    },
    {
      "cell_type": "code",
      "execution_count": null,
      "metadata": {
        "id": "cjF8HGf02nSj"
      },
      "outputs": [],
      "source": [
        "nested_list = extracted_values.reduceColumns(ee.Reducer.toList(len(column_df)), column_df).values().get(0)\n",
        "data = nested_list.getInfo()\n",
        "data\n",
        "df_ = pd.DataFrame(data, columns = column_df)"
      ]
    },
    {
      "cell_type": "code",
      "execution_count": null,
      "metadata": {
        "id": "RyPeFfWm6lIY"
      },
      "outputs": [],
      "source": [
        "pd.DataFrame.to_csv(df_, 'extract_values_covariates_burn_edges_'+str(distance)+'_m.csv')"
      ]
    },
    {
      "cell_type": "markdown",
      "source": [
        "##**Preparing all geodataframes for PROBIT regression**"
      ],
      "metadata": {
        "id": "wI6LtaCq5uMC"
      }
    },
    {
      "cell_type": "code",
      "source": [
        "!pip install geopandas\n",
        "import geopandas as gpd\n",
        "import pandas as pd"
      ],
      "metadata": {
        "id": "kIt71An37_wk"
      },
      "execution_count": null,
      "outputs": []
    },
    {
      "cell_type": "code",
      "source": [
        "grid_gdf = gpd.read_file('grid_points_probit.shp')\n",
        "df_50m = pd.read_csv('extract_values_covariates_burn_edges_50_m.csv')\n",
        "df_100m =pd.read_csv('extract_values_covariates_burn_edges_100_m.csv')\n",
        "df_150m = pd.read_csv('extract_values_covariates_burn_edges_150_m.csv')\n",
        "df_200m = pd.read_csv('extract_values_covariates_burn_edges_200_m.csv')"
      ],
      "metadata": {
        "id": "U7hUsdJx710c"
      },
      "execution_count": null,
      "outputs": []
    },
    {
      "cell_type": "code",
      "source": [
        "db_50m = grid_gdf.merge(df_50m, on = 'id')\n",
        "db_50m = db_50m.drop(columns = ['id','Unnamed: 0'])\n",
        "\n",
        "db_100m = grid_gdf.merge(df_100m, on = 'id')\n",
        "db_100m = db_100m.drop(columns = ['id','Unnamed: 0'])\n",
        "\n",
        "db_150m = grid_gdf.merge(df_150m, on = 'id')\n",
        "db_150m = db_150m.drop(columns = ['id','Unnamed: 0'])\n",
        "\n",
        "db_200m = grid_gdf.merge(df_200m, on = 'id')\n",
        "db_200m = db_200m.drop(columns = ['id','Unnamed: 0'])"
      ],
      "metadata": {
        "id": "I86Rf87N8rrd"
      },
      "execution_count": null,
      "outputs": []
    },
    {
      "cell_type": "code",
      "source": [
        "db_50m_ = db_50m[db_50m['burn_scars_edges_distance'] > 0]\n",
        "db_100m_ = db_100m[db_100m['burn_scars_edges_distance'] > 0]\n",
        "db_150m_ = db_150m[db_150m['burn_scars_edges_distance'] > 0]\n",
        "db_200m_ = db_200m[db_200m['burn_scars_edges_distance'] > 0]"
      ],
      "metadata": {
        "id": "cJkFx14M91Qn"
      },
      "execution_count": null,
      "outputs": []
    },
    {
      "cell_type": "code",
      "source": [
        "db_50m_['lon'] = db_50m_['geometry'].x\n",
        "db_50m_['lat'] = db_50m_['geometry'].y\n",
        "\n",
        "db_100m_['lon'] = db_100m_['geometry'].x\n",
        "db_100m_['lat'] = db_100m_['geometry'].y\n",
        "\n",
        "db_150m_['lon'] = db_150m_['geometry'].x\n",
        "db_150m_['lat'] = db_150m_['geometry'].y\n",
        "\n",
        "db_200m_['lon'] = db_200m_['geometry'].x\n",
        "db_200m_['lat'] = db_200m_['geometry'].y"
      ],
      "metadata": {
        "id": "EYCJK7UuGeVT"
      },
      "execution_count": null,
      "outputs": []
    },
    {
      "cell_type": "code",
      "source": [
        "db_50m_.to_csv('PROBIT_spreg_csv_lat_long/db_50m.csv')\n",
        "db_100m_.to_csv('PROBIT_spreg_csv_lat_long/db_100m.csv')\n",
        "db_150m_.to_csv('PROBIT_spreg_csv_lat_long/db_150m.csv')\n",
        "db_200m_.to_csv('PROBIT_spreg_csv_lat_long/db_200m.csv')"
      ],
      "metadata": {
        "id": "O-FXVxuGIA08"
      },
      "execution_count": null,
      "outputs": []
    },
    {
      "cell_type": "code",
      "source": [
        "db_50m_.to_file('PROBIT_spreg_db/db_50m.shp')\n",
        "db_100m_.to_file('PROBIT_spreg_db/db_100m.shp')\n",
        "db_150m_.to_file('PROBIT_spreg_db/db_150m.shp')\n",
        "db_200m_.to_file('PROBIT_spreg_db/db_200m.shp')"
      ],
      "metadata": {
        "id": "rClCot7P8t38"
      },
      "execution_count": null,
      "outputs": []
    }
  ],
  "metadata": {
    "colab": {
      "provenance": [],
      "collapsed_sections": [
        "7-P-7FY62IgE",
        "YtgNR-Bp2RzE",
        "JtERLvky2YMb",
        "2-pHyT-qNpAz",
        "Y64qhu8QuyWp",
        "wI6LtaCq5uMC"
      ],
      "include_colab_link": true
    },
    "kernelspec": {
      "display_name": "Python 3",
      "name": "python3"
    },
    "language_info": {
      "name": "python"
    }
  },
  "nbformat": 4,
  "nbformat_minor": 0
}